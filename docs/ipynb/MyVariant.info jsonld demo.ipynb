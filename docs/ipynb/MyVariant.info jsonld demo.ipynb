{
 "cells": [
  {
   "cell_type": "code",
   "execution_count": 1,
   "metadata": {
    "collapsed": true
   },
   "outputs": [],
   "source": [
    "import json\n",
    "from utils.mongo import get_src_db\n",
    "from pyld import jsonld\n",
    "import os.path"
   ]
  },
  {
   "cell_type": "code",
   "execution_count": 2,
   "metadata": {
    "collapsed": true
   },
   "outputs": [],
   "source": [
    "def get_doc_from_mongo(hgvs_id):\n",
    "    '''give an id, return the doc corresponding to that id in mongodb'''\n",
    "    src = get_src_db()\n",
    "    doc = src.merge_201511.find({'_id': hgvs_id}).next()\n",
    "    return doc"
   ]
  },
  {
   "cell_type": "code",
   "execution_count": 3,
   "metadata": {
    "collapsed": true
   },
   "outputs": [],
   "source": [
    "def load_context(context_file_path):\n",
    "    context = json.loads(open(context_file_path).read())\n",
    "    return context"
   ]
  },
  {
   "cell_type": "code",
   "execution_count": 4,
   "metadata": {
    "collapsed": true
   },
   "outputs": [],
   "source": [
    "def find_doc(k,keys):\n",
    "    n = len(keys)\n",
    "    for i in range(n):\n",
    "        # if k is a dictionary, then directly get its value\n",
    "        if type(k) == dict:\n",
    "            k = k[keys[i]]\n",
    "\n",
    "        # if k is a list, then loop through k\n",
    "        elif type(k) == list:\n",
    "            tmp = []\n",
    "            for item in k:\n",
    "                try:\n",
    "                    if type(item[keys[i]]) == dict:\n",
    "                        tmp.append(item[keys[i]])\n",
    "                    elif type(item[keys[i]]) == list:\n",
    "                        for _item in item[keys[i]]:\n",
    "                            tmp.append(_item)\n",
    "                except:\n",
    "                    continue\n",
    "            k = tmp\n",
    "    return k"
   ]
  },
  {
   "cell_type": "code",
   "execution_count": 5,
   "metadata": {
    "collapsed": false
   },
   "outputs": [],
   "source": [
    " def add_context(doc, context):\n",
    "    '''add jsonld context to the document'''\n",
    "    for key in context:\n",
    "        keys = key.split('/')\n",
    "        try:\n",
    "            doc_new = find_doc(doc,keys)\n",
    "            if type(doc_new) == list:\n",
    "                for _d in doc_new:\n",
    "                    _d.update(context[key])\n",
    "            elif type(doc_new) == dict:\n",
    "                doc_new.update(context[key])\n",
    "            else:\n",
    "                print error\n",
    "        except:\n",
    "            continue\n",
    "            print 'keyerror'\n",
    "    return doc"
   ]
  },
  {
   "cell_type": "code",
   "execution_count": 6,
   "metadata": {
    "collapsed": true
   },
   "outputs": [],
   "source": [
    "def nquads_transform(doc):\n",
    "    t = jsonld.JsonLdProcessor()\n",
    "    nquads = t.parse_nquads(jsonld.to_rdf(doc, {'format': 'application/nquads'}))['@default']\n",
    "    return nquads"
   ]
  },
  {
   "cell_type": "code",
   "execution_count": 23,
   "metadata": {
    "collapsed": false
   },
   "outputs": [],
   "source": [
    "def fetch_value_source_for_variant(id, context_path, uri):\n",
    "    doc = get_doc_from_mongo(id)\n",
    "    context = load_context(context_path)\n",
    "    doc.update(context.pop('root'))\n",
    "    doc = add_context(doc,context)\n",
    "    nquads = nquads_transform(doc)\n",
    "    (node, value) = get_value_and_node(nquads,uri)\n",
    "    source = []\n",
    "    for item in node:\n",
    "        source.append(find_top_level_uri(item, nquads))\n",
    "    result = [i + ' ' + j for i,j in zip(value, source)]\n",
    "    return result\n",
    "    "
   ]
  },
  {
   "cell_type": "code",
   "execution_count": null,
   "metadata": {
    "collapsed": true
   },
   "outputs": [],
   "source": []
  },
  {
   "cell_type": "code",
   "execution_count": 24,
   "metadata": {
    "collapsed": true
   },
   "outputs": [],
   "source": [
    "def get_value_and_node(nquads, uri):\n",
    "    node_list = []\n",
    "    value_list = []\n",
    "\n",
    "    for item in nquads:\n",
    "        if item['predicate']['value'] == uri:\n",
    "            node_list.append(item['subject']['value'])\n",
    "            value_list.append(item['object']['value'])\n",
    "    return (node_list, value_list)"
   ]
  },
  {
   "cell_type": "code",
   "execution_count": 25,
   "metadata": {
    "collapsed": true
   },
   "outputs": [],
   "source": [
    "def find_top_level_uri(nquads_id, nquads):\n",
    "    for item in nquads:\n",
    "        if item['object']['value'] == nquads_id:\n",
    "            if item['predicate']['value'] in top_level_uris:\n",
    "                uri = item['predicate']['value']\n",
    "            elif item['predicate']['value'] not in top_level_uris:\n",
    "                uri = find_top_level_uri(item['subject']['value'], nquads)\n",
    "            else:\n",
    "                print \"couldn't find top level uri\"\n",
    "    return uri"
   ]
  },
  {
   "cell_type": "code",
   "execution_count": 26,
   "metadata": {
    "collapsed": true
   },
   "outputs": [],
   "source": [
    "top_level_uris = ['http://example.org/cadd/', \n",
    "                  'http://example.org/clinvar/', \n",
    "                  'http://example.org/dbnsfp/', \n",
    "                  'http://example.org/dbsnp/', \n",
    "                  'http://example.org/docm/', \n",
    "                  'http://example.org/emv/', \n",
    "                  'http://example.org/evs/', \n",
    "                  'http://example.org/gwassnps/', \n",
    "                  'http://example.org/snpeff/', \n",
    "                  'http://example.org/mutdb/']"
   ]
  },
  {
   "cell_type": "code",
   "execution_count": 29,
   "metadata": {
    "collapsed": true
   },
   "outputs": [],
   "source": [
    "hgvs_id = 'chr6:g.26093141G>A'"
   ]
  },
  {
   "cell_type": "code",
   "execution_count": 30,
   "metadata": {
    "collapsed": true
   },
   "outputs": [],
   "source": [
    "src_path = os.path.split(os.path.split(os.path.abspath(__file__))[0])[0]\n",
    "path = os.path.join(src_path, 'www/context/context.json')"
   ]
  },
  {
   "cell_type": "code",
   "execution_count": 31,
   "metadata": {
    "collapsed": true
   },
   "outputs": [],
   "source": [
    "uri = \"http://identifiers.org/ensembl/\""
   ]
  },
  {
   "cell_type": "code",
   "execution_count": 32,
   "metadata": {
    "collapsed": false
   },
   "outputs": [
    {
     "data": {
      "text/plain": [
       "[u'ENST00000357618 http://example.org/cadd/']"
      ]
     },
     "execution_count": 32,
     "metadata": {},
     "output_type": "execute_result"
    }
   ],
   "source": [
    "fetch_value_source_for_variant(hgvs_id, path, uri)"
   ]
  },
  {
   "cell_type": "markdown",
   "metadata": {},
   "source": [
    "get ensembl id info"
   ]
  },
  {
   "cell_type": "code",
   "execution_count": 33,
   "metadata": {
    "collapsed": true
   },
   "outputs": [],
   "source": [
    "uri = \"http://identifiers.org/ensembl\""
   ]
  },
  {
   "cell_type": "code",
   "execution_count": 34,
   "metadata": {
    "collapsed": false
   },
   "outputs": [
    {
     "data": {
      "text/plain": [
       "[u'ENSG00000010704 http://example.org/cadd/',\n",
       " u'ENSG00000010704 http://example.org/dbnsfp/',\n",
       " u'ENSP00000259699 http://example.org/dbnsfp/',\n",
       " u'ENSP00000311698 http://example.org/dbnsfp/',\n",
       " u'ENSP00000312342 http://example.org/dbnsfp/',\n",
       " u'ENSP00000313776 http://example.org/dbnsfp/',\n",
       " u'ENSP00000337819 http://example.org/dbnsfp/',\n",
       " u'ENSP00000380217 http://example.org/dbnsfp/',\n",
       " u'ENSP00000417404 http://example.org/dbnsfp/',\n",
       " u'ENSP00000419725 http://example.org/dbnsfp/',\n",
       " u'ENSP00000420559 http://example.org/dbnsfp/',\n",
       " u'ENSP00000420802 http://example.org/dbnsfp/']"
      ]
     },
     "execution_count": 34,
     "metadata": {},
     "output_type": "execute_result"
    }
   ],
   "source": [
    "fetch_value_source_for_variant(hgvs_id, path, uri)"
   ]
  },
  {
   "cell_type": "markdown",
   "metadata": {},
   "source": [
    "Get gene symbol info"
   ]
  },
  {
   "cell_type": "code",
   "execution_count": 35,
   "metadata": {
    "collapsed": true
   },
   "outputs": [],
   "source": [
    "uri = \"http://identifiers.org/hgnc.symbol/\""
   ]
  },
  {
   "cell_type": "code",
   "execution_count": 36,
   "metadata": {
    "collapsed": false
   },
   "outputs": [
    {
     "data": {
      "text/plain": [
       "[u'HFE http://example.org/cadd/',\n",
       " u'HFE http://example.org/dbnsfp/',\n",
       " u'HFE http://example.org/clinvar/',\n",
       " u'HFE http://example.org/dbsnp/',\n",
       " u'HFE http://example.org/evs/',\n",
       " u'HFE http://example.org/evs/',\n",
       " u'HFE http://example.org/evs/',\n",
       " u'HFE http://example.org/evs/',\n",
       " u'HFE http://example.org/evs/',\n",
       " u'HFE http://example.org/evs/',\n",
       " u'HFE http://example.org/evs/',\n",
       " u'HFE http://example.org/evs/',\n",
       " u'HFE http://example.org/evs/',\n",
       " u'HFE http://example.org/gwassnps/']"
      ]
     },
     "execution_count": 36,
     "metadata": {},
     "output_type": "execute_result"
    }
   ],
   "source": [
    "fetch_value_source_for_variant(hgvs_id, path, uri)"
   ]
  },
  {
   "cell_type": "markdown",
   "metadata": {},
   "source": [
    "Get omim id info"
   ]
  },
  {
   "cell_type": "code",
   "execution_count": 37,
   "metadata": {
    "collapsed": true
   },
   "outputs": [],
   "source": [
    "uri = \"http://identifiers.org/omim/\""
   ]
  },
  {
   "cell_type": "code",
   "execution_count": 38,
   "metadata": {
    "collapsed": false
   },
   "outputs": [
    {
     "data": {
      "text/plain": [
       "[u'614193 http://example.org/clinvar/',\n",
       " u'612635 http://example.org/clinvar/',\n",
       " u'613609.0001 http://example.org/clinvar/',\n",
       " u'235200 http://example.org/clinvar/']"
      ]
     },
     "execution_count": 38,
     "metadata": {},
     "output_type": "execute_result"
    }
   ],
   "source": [
    "fetch_value_source_for_variant(hgvs_id, path, uri)"
   ]
  },
  {
   "cell_type": "markdown",
   "metadata": {},
   "source": [
    "Get rsid info"
   ]
  },
  {
   "cell_type": "code",
   "execution_count": 39,
   "metadata": {
    "collapsed": true
   },
   "outputs": [],
   "source": [
    "uri = \"http://identifiers.org/dbsnp/\""
   ]
  },
  {
   "cell_type": "code",
   "execution_count": 40,
   "metadata": {
    "collapsed": false
   },
   "outputs": [
    {
     "data": {
      "text/plain": [
       "[u'rs1800562 http://example.org/dbnsfp/',\n",
       " u'rs1800562 http://example.org/clinvar/',\n",
       " u'rs1800562 http://example.org/dbsnp/',\n",
       " u'rs1800562 http://example.org/evs/',\n",
       " u'rs1800562 http://example.org/gwassnps/',\n",
       " u'rs1800562 http://example.org/mutdb/']"
      ]
     },
     "execution_count": 40,
     "metadata": {},
     "output_type": "execute_result"
    }
   ],
   "source": [
    "fetch_value_source_for_variant(hgvs_id, path, uri)"
   ]
  },
  {
   "cell_type": "code",
   "execution_count": 42,
   "metadata": {
    "collapsed": false
   },
   "outputs": [],
   "source": [
    "doc = get_doc_from_mongo(hgvs_id)"
   ]
  },
  {
   "cell_type": "code",
   "execution_count": 43,
   "metadata": {
    "collapsed": true
   },
   "outputs": [],
   "source": [
    "context = load_context(path)"
   ]
  },
  {
   "cell_type": "code",
   "execution_count": 44,
   "metadata": {
    "collapsed": true
   },
   "outputs": [],
   "source": [
    "    doc.update(context.pop('root'))\n",
    "    doc = add_context(doc,context)"
   ]
  },
  {
   "cell_type": "code",
   "execution_count": 45,
   "metadata": {
    "collapsed": true
   },
   "outputs": [],
   "source": [
    "t = jsonld.JsonLdProcessor()"
   ]
  },
  {
   "cell_type": "code",
   "execution_count": 46,
   "metadata": {
    "collapsed": true
   },
   "outputs": [],
   "source": [
    "nquads = t.parse_nquads(jsonld.to_rdf(doc, {'format': 'application/nquads'}))"
   ]
  },
  {
   "cell_type": "code",
   "execution_count": 47,
   "metadata": {
    "collapsed": false
   },
   "outputs": [
    {
     "data": {
      "text/plain": [
       "{'@default': [{'object': {'type': 'blank node', 'value': u'_:b1'},\n",
       "   'predicate': {'type': 'IRI', 'value': u'http://example.org/cadd/'},\n",
       "   'subject': {'type': 'blank node', 'value': u'_:b0'}},\n",
       "  {'object': {'type': 'blank node', 'value': u'_:b3'},\n",
       "   'predicate': {'type': 'IRI', 'value': u'http://example.org/clinvar/'},\n",
       "   'subject': {'type': 'blank node', 'value': u'_:b0'}},\n",
       "  {'object': {'type': 'blank node', 'value': u'_:b28'},\n",
       "   'predicate': {'type': 'IRI', 'value': u'http://example.org/dbnsfp/'},\n",
       "   'subject': {'type': 'blank node', 'value': u'_:b0'}},\n",
       "  {'object': {'type': 'blank node', 'value': u'_:b40'},\n",
       "   'predicate': {'type': 'IRI', 'value': u'http://example.org/dbsnp/'},\n",
       "   'subject': {'type': 'blank node', 'value': u'_:b0'}},\n",
       "  {'object': {'type': 'blank node', 'value': u'_:b42'},\n",
       "   'predicate': {'type': 'IRI', 'value': u'http://example.org/evs/'},\n",
       "   'subject': {'type': 'blank node', 'value': u'_:b0'}},\n",
       "  {'object': {'type': 'blank node', 'value': u'_:b52'},\n",
       "   'predicate': {'type': 'IRI', 'value': u'http://example.org/gwassnps/'},\n",
       "   'subject': {'type': 'blank node', 'value': u'_:b0'}},\n",
       "  {'object': {'type': 'blank node', 'value': u'_:b53'},\n",
       "   'predicate': {'type': 'IRI', 'value': u'http://example.org/mutdb/'},\n",
       "   'subject': {'type': 'blank node', 'value': u'_:b0'}},\n",
       "  {'object': {'type': 'blank node', 'value': u'_:b2'},\n",
       "   'predicate': {'type': 'IRI', 'value': u'http://example.org/gene/'},\n",
       "   'subject': {'type': 'blank node', 'value': u'_:b1'}},\n",
       "  {'object': {'type': 'blank node', 'value': u'_:b11'},\n",
       "   'predicate': {'type': 'IRI', 'value': u'http://example.org/conditions'},\n",
       "   'subject': {'type': 'blank node', 'value': u'_:b10'}},\n",
       "  {'object': {'datatype': 'http://www.w3.org/2001/XMLSchema#string',\n",
       "    'type': 'literal',\n",
       "    'value': u'RCV000000021'},\n",
       "   'predicate': {'type': 'IRI', 'value': u'http://identifer.org/clinvar'},\n",
       "   'subject': {'type': 'blank node', 'value': u'_:b10'}},\n",
       "  {'object': {'type': 'blank node', 'value': u'_:b13'},\n",
       "   'predicate': {'type': 'IRI', 'value': u'http://example.org/conditions'},\n",
       "   'subject': {'type': 'blank node', 'value': u'_:b12'}},\n",
       "  {'object': {'datatype': 'http://www.w3.org/2001/XMLSchema#string',\n",
       "    'type': 'literal',\n",
       "    'value': u'RCV000000022'},\n",
       "   'predicate': {'type': 'IRI', 'value': u'http://identifer.org/clinvar'},\n",
       "   'subject': {'type': 'blank node', 'value': u'_:b12'}},\n",
       "  {'object': {'type': 'blank node', 'value': u'_:b15'},\n",
       "   'predicate': {'type': 'IRI', 'value': u'http://example.org/conditions'},\n",
       "   'subject': {'type': 'blank node', 'value': u'_:b14'}},\n",
       "  {'object': {'datatype': 'http://www.w3.org/2001/XMLSchema#string',\n",
       "    'type': 'literal',\n",
       "    'value': u'RCV000000023'},\n",
       "   'predicate': {'type': 'IRI', 'value': u'http://identifer.org/clinvar'},\n",
       "   'subject': {'type': 'blank node', 'value': u'_:b14'}},\n",
       "  {'object': {'type': 'blank node', 'value': u'_:b17'},\n",
       "   'predicate': {'type': 'IRI', 'value': u'http://example.org/conditions'},\n",
       "   'subject': {'type': 'blank node', 'value': u'_:b16'}},\n",
       "  {'object': {'datatype': 'http://www.w3.org/2001/XMLSchema#string',\n",
       "    'type': 'literal',\n",
       "    'value': u'RCV000000024'},\n",
       "   'predicate': {'type': 'IRI', 'value': u'http://identifer.org/clinvar'},\n",
       "   'subject': {'type': 'blank node', 'value': u'_:b16'}},\n",
       "  {'object': {'type': 'blank node', 'value': u'_:b18'},\n",
       "   'predicate': {'type': 'IRI', 'value': u'http://example.org/identifiers'},\n",
       "   'subject': {'type': 'blank node', 'value': u'_:b17'}},\n",
       "  {'object': {'datatype': 'http://www.w3.org/2001/XMLSchema#string',\n",
       "    'type': 'literal',\n",
       "    'value': u'614193'},\n",
       "   'predicate': {'type': 'IRI', 'value': u'http://identifiers.org/omim/'},\n",
       "   'subject': {'type': 'blank node', 'value': u'_:b18'}},\n",
       "  {'object': {'type': 'blank node', 'value': u'_:b20'},\n",
       "   'predicate': {'type': 'IRI', 'value': u'http://example.org/conditions'},\n",
       "   'subject': {'type': 'blank node', 'value': u'_:b19'}},\n",
       "  {'object': {'datatype': 'http://www.w3.org/2001/XMLSchema#string',\n",
       "    'type': 'literal',\n",
       "    'value': u'RCV000000025'},\n",
       "   'predicate': {'type': 'IRI', 'value': u'http://identifer.org/clinvar'},\n",
       "   'subject': {'type': 'blank node', 'value': u'_:b19'}},\n",
       "  {'object': {'datatype': 'http://www.w3.org/2001/XMLSchema#string',\n",
       "    'type': 'literal',\n",
       "    'value': u'CCDS4578.1'},\n",
       "   'predicate': {'type': 'IRI', 'value': u'http://identifiers.org/ccds/'},\n",
       "   'subject': {'type': 'blank node', 'value': u'_:b2'}},\n",
       "  {'object': {'datatype': 'http://www.w3.org/2001/XMLSchema#string',\n",
       "    'type': 'literal',\n",
       "    'value': u'ENST00000357618'},\n",
       "   'predicate': {'type': 'IRI', 'value': u'http://identifiers.org/ensembl/'},\n",
       "   'subject': {'type': 'blank node', 'value': u'_:b2'}},\n",
       "  {'object': {'datatype': 'http://www.w3.org/2001/XMLSchema#string',\n",
       "    'type': 'literal',\n",
       "    'value': u'ENSG00000010704'},\n",
       "   'predicate': {'type': 'IRI', 'value': u'http://identifiers.org/ensembl'},\n",
       "   'subject': {'type': 'blank node', 'value': u'_:b2'}},\n",
       "  {'object': {'datatype': 'http://www.w3.org/2001/XMLSchema#string',\n",
       "    'type': 'literal',\n",
       "    'value': u'HFE'},\n",
       "   'predicate': {'type': 'IRI',\n",
       "    'value': u'http://identifiers.org/hgnc.symbol/'},\n",
       "   'subject': {'type': 'blank node', 'value': u'_:b2'}},\n",
       "  {'object': {'type': 'blank node', 'value': u'_:b21'},\n",
       "   'predicate': {'type': 'IRI', 'value': u'http://example.org/identifiers'},\n",
       "   'subject': {'type': 'blank node', 'value': u'_:b20'}},\n",
       "  {'object': {'datatype': 'http://www.w3.org/2001/XMLSchema#string',\n",
       "    'type': 'literal',\n",
       "    'value': u'612635'},\n",
       "   'predicate': {'type': 'IRI', 'value': u'http://identifiers.org/omim/'},\n",
       "   'subject': {'type': 'blank node', 'value': u'_:b21'}},\n",
       "  {'object': {'type': 'blank node', 'value': u'_:b23'},\n",
       "   'predicate': {'type': 'IRI', 'value': u'http://example.org/conditions'},\n",
       "   'subject': {'type': 'blank node', 'value': u'_:b22'}},\n",
       "  {'object': {'datatype': 'http://www.w3.org/2001/XMLSchema#string',\n",
       "    'type': 'literal',\n",
       "    'value': u'RCV000117222'},\n",
       "   'predicate': {'type': 'IRI', 'value': u'http://identifer.org/clinvar'},\n",
       "   'subject': {'type': 'blank node', 'value': u'_:b22'}},\n",
       "  {'object': {'type': 'blank node', 'value': u'_:b24'},\n",
       "   'predicate': {'type': 'IRI', 'value': u'http://example.org/identifiers'},\n",
       "   'subject': {'type': 'blank node', 'value': u'_:b23'}},\n",
       "  {'object': {'type': 'blank node', 'value': u'_:b26'},\n",
       "   'predicate': {'type': 'IRI', 'value': u'http://example.org/conditions'},\n",
       "   'subject': {'type': 'blank node', 'value': u'_:b25'}},\n",
       "  {'object': {'datatype': 'http://www.w3.org/2001/XMLSchema#string',\n",
       "    'type': 'literal',\n",
       "    'value': u'RCV000178096'},\n",
       "   'predicate': {'type': 'IRI', 'value': u'http://identifer.org/clinvar'},\n",
       "   'subject': {'type': 'blank node', 'value': u'_:b25'}},\n",
       "  {'object': {'type': 'blank node', 'value': u'_:b27'},\n",
       "   'predicate': {'type': 'IRI', 'value': u'http://example.org/identifiers'},\n",
       "   'subject': {'type': 'blank node', 'value': u'_:b26'}},\n",
       "  {'object': {'type': 'blank node', 'value': u'_:b29'},\n",
       "   'predicate': {'type': 'IRI', 'value': u'http://example.org/clinvar/'},\n",
       "   'subject': {'type': 'blank node', 'value': u'_:b28'}},\n",
       "  {'object': {'type': 'blank node', 'value': u'_:b30'},\n",
       "   'predicate': {'type': 'IRI', 'value': u'http://example.org/ensembl/'},\n",
       "   'subject': {'type': 'blank node', 'value': u'_:b28'}},\n",
       "  {'object': {'type': 'blank node', 'value': u'_:b31'},\n",
       "   'predicate': {'type': 'IRI', 'value': u'http://example.org/uniprot'},\n",
       "   'subject': {'type': 'blank node', 'value': u'_:b28'}},\n",
       "  {'object': {'type': 'blank node', 'value': u'_:b32'},\n",
       "   'predicate': {'type': 'IRI', 'value': u'http://example.org/uniprot'},\n",
       "   'subject': {'type': 'blank node', 'value': u'_:b28'}},\n",
       "  {'object': {'type': 'blank node', 'value': u'_:b33'},\n",
       "   'predicate': {'type': 'IRI', 'value': u'http://example.org/uniprot'},\n",
       "   'subject': {'type': 'blank node', 'value': u'_:b28'}},\n",
       "  {'object': {'type': 'blank node', 'value': u'_:b34'},\n",
       "   'predicate': {'type': 'IRI', 'value': u'http://example.org/uniprot'},\n",
       "   'subject': {'type': 'blank node', 'value': u'_:b28'}},\n",
       "  {'object': {'type': 'blank node', 'value': u'_:b35'},\n",
       "   'predicate': {'type': 'IRI', 'value': u'http://example.org/uniprot'},\n",
       "   'subject': {'type': 'blank node', 'value': u'_:b28'}},\n",
       "  {'object': {'type': 'blank node', 'value': u'_:b36'},\n",
       "   'predicate': {'type': 'IRI', 'value': u'http://example.org/uniprot'},\n",
       "   'subject': {'type': 'blank node', 'value': u'_:b28'}},\n",
       "  {'object': {'type': 'blank node', 'value': u'_:b37'},\n",
       "   'predicate': {'type': 'IRI', 'value': u'http://example.org/uniprot'},\n",
       "   'subject': {'type': 'blank node', 'value': u'_:b28'}},\n",
       "  {'object': {'type': 'blank node', 'value': u'_:b38'},\n",
       "   'predicate': {'type': 'IRI', 'value': u'http://example.org/uniprot'},\n",
       "   'subject': {'type': 'blank node', 'value': u'_:b28'}},\n",
       "  {'object': {'type': 'blank node', 'value': u'_:b39'},\n",
       "   'predicate': {'type': 'IRI', 'value': u'http://example.org/uniprot'},\n",
       "   'subject': {'type': 'blank node', 'value': u'_:b28'}},\n",
       "  {'object': {'datatype': 'http://www.w3.org/2001/XMLSchema#string',\n",
       "    'type': 'literal',\n",
       "    'value': u'rs1800562'},\n",
       "   'predicate': {'type': 'IRI', 'value': u'http://identifiers.org/dbsnp/'},\n",
       "   'subject': {'type': 'blank node', 'value': u'_:b28'}},\n",
       "  {'object': {'datatype': 'http://www.w3.org/2001/XMLSchema#string',\n",
       "    'type': 'literal',\n",
       "    'value': u'HFE'},\n",
       "   'predicate': {'type': 'IRI',\n",
       "    'value': u'http://identifiers.org/hgnc.symbol/'},\n",
       "   'subject': {'type': 'blank node', 'value': u'_:b28'}},\n",
       "  {'object': {'type': 'blank node', 'value': u'_:b4'},\n",
       "   'predicate': {'type': 'IRI', 'value': u'http://example.org/gene/'},\n",
       "   'subject': {'type': 'blank node', 'value': u'_:b3'}},\n",
       "  {'object': {'type': 'blank node', 'value': u'_:b10'},\n",
       "   'predicate': {'type': 'IRI', 'value': u'http://example.org/rcv/'},\n",
       "   'subject': {'type': 'blank node', 'value': u'_:b3'}},\n",
       "  {'object': {'type': 'blank node', 'value': u'_:b12'},\n",
       "   'predicate': {'type': 'IRI', 'value': u'http://example.org/rcv/'},\n",
       "   'subject': {'type': 'blank node', 'value': u'_:b3'}},\n",
       "  {'object': {'type': 'blank node', 'value': u'_:b14'},\n",
       "   'predicate': {'type': 'IRI', 'value': u'http://example.org/rcv/'},\n",
       "   'subject': {'type': 'blank node', 'value': u'_:b3'}},\n",
       "  {'object': {'type': 'blank node', 'value': u'_:b16'},\n",
       "   'predicate': {'type': 'IRI', 'value': u'http://example.org/rcv/'},\n",
       "   'subject': {'type': 'blank node', 'value': u'_:b3'}},\n",
       "  {'object': {'type': 'blank node', 'value': u'_:b19'},\n",
       "   'predicate': {'type': 'IRI', 'value': u'http://example.org/rcv/'},\n",
       "   'subject': {'type': 'blank node', 'value': u'_:b3'}},\n",
       "  {'object': {'type': 'blank node', 'value': u'_:b22'},\n",
       "   'predicate': {'type': 'IRI', 'value': u'http://example.org/rcv/'},\n",
       "   'subject': {'type': 'blank node', 'value': u'_:b3'}},\n",
       "  {'object': {'type': 'blank node', 'value': u'_:b25'},\n",
       "   'predicate': {'type': 'IRI', 'value': u'http://example.org/rcv/'},\n",
       "   'subject': {'type': 'blank node', 'value': u'_:b3'}},\n",
       "  {'object': {'type': 'blank node', 'value': u'_:b5'},\n",
       "   'predicate': {'type': 'IRI', 'value': u'http://example.org/rcv/'},\n",
       "   'subject': {'type': 'blank node', 'value': u'_:b3'}},\n",
       "  {'object': {'type': 'blank node', 'value': u'_:b8'},\n",
       "   'predicate': {'type': 'IRI', 'value': u'http://example.org/rcv/'},\n",
       "   'subject': {'type': 'blank node', 'value': u'_:b3'}},\n",
       "  {'object': {'datatype': 'http://www.w3.org/2001/XMLSchema#string',\n",
       "    'type': 'literal',\n",
       "    'value': u'rs1800562'},\n",
       "   'predicate': {'type': 'IRI', 'value': u'http://identifiers.org/dbsnp/'},\n",
       "   'subject': {'type': 'blank node', 'value': u'_:b3'}},\n",
       "  {'object': {'datatype': 'http://www.w3.org/2001/XMLSchema#string',\n",
       "    'type': 'literal',\n",
       "    'value': u'613609.0001'},\n",
       "   'predicate': {'type': 'IRI', 'value': u'http://identifiers.org/omim/'},\n",
       "   'subject': {'type': 'blank node', 'value': u'_:b3'}},\n",
       "  {'object': {'datatype': 'http://www.w3.org/2001/XMLSchema#string',\n",
       "    'type': 'literal',\n",
       "    'value': u'ENSG00000010704'},\n",
       "   'predicate': {'type': 'IRI', 'value': u'http://identifiers.org/ensembl'},\n",
       "   'subject': {'type': 'blank node', 'value': u'_:b30'}},\n",
       "  {'object': {'datatype': 'http://www.w3.org/2001/XMLSchema#string',\n",
       "    'type': 'literal',\n",
       "    'value': u'ENSP00000259699'},\n",
       "   'predicate': {'type': 'IRI', 'value': u'http://identifiers.org/ensembl'},\n",
       "   'subject': {'type': 'blank node', 'value': u'_:b30'}},\n",
       "  {'object': {'datatype': 'http://www.w3.org/2001/XMLSchema#string',\n",
       "    'type': 'literal',\n",
       "    'value': u'ENSP00000311698'},\n",
       "   'predicate': {'type': 'IRI', 'value': u'http://identifiers.org/ensembl'},\n",
       "   'subject': {'type': 'blank node', 'value': u'_:b30'}},\n",
       "  {'object': {'datatype': 'http://www.w3.org/2001/XMLSchema#string',\n",
       "    'type': 'literal',\n",
       "    'value': u'ENSP00000312342'},\n",
       "   'predicate': {'type': 'IRI', 'value': u'http://identifiers.org/ensembl'},\n",
       "   'subject': {'type': 'blank node', 'value': u'_:b30'}},\n",
       "  {'object': {'datatype': 'http://www.w3.org/2001/XMLSchema#string',\n",
       "    'type': 'literal',\n",
       "    'value': u'ENSP00000313776'},\n",
       "   'predicate': {'type': 'IRI', 'value': u'http://identifiers.org/ensembl'},\n",
       "   'subject': {'type': 'blank node', 'value': u'_:b30'}},\n",
       "  {'object': {'datatype': 'http://www.w3.org/2001/XMLSchema#string',\n",
       "    'type': 'literal',\n",
       "    'value': u'ENSP00000337819'},\n",
       "   'predicate': {'type': 'IRI', 'value': u'http://identifiers.org/ensembl'},\n",
       "   'subject': {'type': 'blank node', 'value': u'_:b30'}},\n",
       "  {'object': {'datatype': 'http://www.w3.org/2001/XMLSchema#string',\n",
       "    'type': 'literal',\n",
       "    'value': u'ENSP00000380217'},\n",
       "   'predicate': {'type': 'IRI', 'value': u'http://identifiers.org/ensembl'},\n",
       "   'subject': {'type': 'blank node', 'value': u'_:b30'}},\n",
       "  {'object': {'datatype': 'http://www.w3.org/2001/XMLSchema#string',\n",
       "    'type': 'literal',\n",
       "    'value': u'ENSP00000417404'},\n",
       "   'predicate': {'type': 'IRI', 'value': u'http://identifiers.org/ensembl'},\n",
       "   'subject': {'type': 'blank node', 'value': u'_:b30'}},\n",
       "  {'object': {'datatype': 'http://www.w3.org/2001/XMLSchema#string',\n",
       "    'type': 'literal',\n",
       "    'value': u'ENSP00000419725'},\n",
       "   'predicate': {'type': 'IRI', 'value': u'http://identifiers.org/ensembl'},\n",
       "   'subject': {'type': 'blank node', 'value': u'_:b30'}},\n",
       "  {'object': {'datatype': 'http://www.w3.org/2001/XMLSchema#string',\n",
       "    'type': 'literal',\n",
       "    'value': u'ENSP00000420559'},\n",
       "   'predicate': {'type': 'IRI', 'value': u'http://identifiers.org/ensembl'},\n",
       "   'subject': {'type': 'blank node', 'value': u'_:b30'}},\n",
       "  {'object': {'datatype': 'http://www.w3.org/2001/XMLSchema#string',\n",
       "    'type': 'literal',\n",
       "    'value': u'ENSP00000420802'},\n",
       "   'predicate': {'type': 'IRI', 'value': u'http://identifiers.org/ensembl'},\n",
       "   'subject': {'type': 'blank node', 'value': u'_:b30'}},\n",
       "  {'object': {'datatype': 'http://www.w3.org/2001/XMLSchema#string',\n",
       "    'type': 'literal',\n",
       "    'value': u'Q6B0J5'},\n",
       "   'predicate': {'type': 'IRI', 'value': u'http://identifiers.org/uniprot/'},\n",
       "   'subject': {'type': 'blank node', 'value': u'_:b31'}},\n",
       "  {'object': {'datatype': 'http://www.w3.org/2001/XMLSchema#string',\n",
       "    'type': 'literal',\n",
       "    'value': u'Q30201-6'},\n",
       "   'predicate': {'type': 'IRI', 'value': u'http://identifiers.org/uniprot/'},\n",
       "   'subject': {'type': 'blank node', 'value': u'_:b32'}},\n",
       "  {'object': {'datatype': 'http://www.w3.org/2001/XMLSchema#string',\n",
       "    'type': 'literal',\n",
       "    'value': u'Q30201-4'},\n",
       "   'predicate': {'type': 'IRI', 'value': u'http://identifiers.org/uniprot/'},\n",
       "   'subject': {'type': 'blank node', 'value': u'_:b33'}},\n",
       "  {'object': {'datatype': 'http://www.w3.org/2001/XMLSchema#string',\n",
       "    'type': 'literal',\n",
       "    'value': u'Q30201-7'},\n",
       "   'predicate': {'type': 'IRI', 'value': u'http://identifiers.org/uniprot/'},\n",
       "   'subject': {'type': 'blank node', 'value': u'_:b34'}},\n",
       "  {'object': {'datatype': 'http://www.w3.org/2001/XMLSchema#string',\n",
       "    'type': 'literal',\n",
       "    'value': u'Q30201-10'},\n",
       "   'predicate': {'type': 'IRI', 'value': u'http://identifiers.org/uniprot/'},\n",
       "   'subject': {'type': 'blank node', 'value': u'_:b35'}},\n",
       "  {'object': {'datatype': 'http://www.w3.org/2001/XMLSchema#string',\n",
       "    'type': 'literal',\n",
       "    'value': u'Q30201-3'},\n",
       "   'predicate': {'type': 'IRI', 'value': u'http://identifiers.org/uniprot/'},\n",
       "   'subject': {'type': 'blank node', 'value': u'_:b36'}},\n",
       "  {'object': {'datatype': 'http://www.w3.org/2001/XMLSchema#string',\n",
       "    'type': 'literal',\n",
       "    'value': u'Q30201-2'},\n",
       "   'predicate': {'type': 'IRI', 'value': u'http://identifiers.org/uniprot/'},\n",
       "   'subject': {'type': 'blank node', 'value': u'_:b37'}},\n",
       "  {'object': {'datatype': 'http://www.w3.org/2001/XMLSchema#string',\n",
       "    'type': 'literal',\n",
       "    'value': u'Q30201-5'},\n",
       "   'predicate': {'type': 'IRI', 'value': u'http://identifiers.org/uniprot/'},\n",
       "   'subject': {'type': 'blank node', 'value': u'_:b38'}},\n",
       "  {'object': {'datatype': 'http://www.w3.org/2001/XMLSchema#string',\n",
       "    'type': 'literal',\n",
       "    'value': u'Q30201'},\n",
       "   'predicate': {'type': 'IRI', 'value': u'http://identifiers.org/uniprot/'},\n",
       "   'subject': {'type': 'blank node', 'value': u'_:b39'}},\n",
       "  {'object': {'datatype': 'http://www.w3.org/2001/XMLSchema#string',\n",
       "    'type': 'literal',\n",
       "    'value': u'HFE'},\n",
       "   'predicate': {'type': 'IRI',\n",
       "    'value': u'http://identifiers.org/hgnc.symbol/'},\n",
       "   'subject': {'type': 'blank node', 'value': u'_:b4'}},\n",
       "  {'object': {'type': 'blank node', 'value': u'_:b41'},\n",
       "   'predicate': {'type': 'IRI', 'value': u'http://example.org/gene/'},\n",
       "   'subject': {'type': 'blank node', 'value': u'_:b40'}},\n",
       "  {'object': {'datatype': 'http://www.w3.org/2001/XMLSchema#string',\n",
       "    'type': 'literal',\n",
       "    'value': u'rs1800562'},\n",
       "   'predicate': {'type': 'IRI', 'value': u'http://identifiers.org/dbsnp/'},\n",
       "   'subject': {'type': 'blank node', 'value': u'_:b40'}},\n",
       "  {'object': {'datatype': 'http://www.w3.org/2001/XMLSchema#string',\n",
       "    'type': 'literal',\n",
       "    'value': u'HFE'},\n",
       "   'predicate': {'type': 'IRI',\n",
       "    'value': u'http://identifiers.org/hgnc.symbol/'},\n",
       "   'subject': {'type': 'blank node', 'value': u'_:b41'}},\n",
       "  {'object': {'type': 'blank node', 'value': u'_:b43'},\n",
       "   'predicate': {'type': 'IRI', 'value': u'http://example.org/gene/'},\n",
       "   'subject': {'type': 'blank node', 'value': u'_:b42'}},\n",
       "  {'object': {'type': 'blank node', 'value': u'_:b44'},\n",
       "   'predicate': {'type': 'IRI', 'value': u'http://example.org/gene/'},\n",
       "   'subject': {'type': 'blank node', 'value': u'_:b42'}},\n",
       "  {'object': {'type': 'blank node', 'value': u'_:b45'},\n",
       "   'predicate': {'type': 'IRI', 'value': u'http://example.org/gene/'},\n",
       "   'subject': {'type': 'blank node', 'value': u'_:b42'}},\n",
       "  {'object': {'type': 'blank node', 'value': u'_:b46'},\n",
       "   'predicate': {'type': 'IRI', 'value': u'http://example.org/gene/'},\n",
       "   'subject': {'type': 'blank node', 'value': u'_:b42'}},\n",
       "  {'object': {'type': 'blank node', 'value': u'_:b47'},\n",
       "   'predicate': {'type': 'IRI', 'value': u'http://example.org/gene/'},\n",
       "   'subject': {'type': 'blank node', 'value': u'_:b42'}},\n",
       "  {'object': {'type': 'blank node', 'value': u'_:b48'},\n",
       "   'predicate': {'type': 'IRI', 'value': u'http://example.org/gene/'},\n",
       "   'subject': {'type': 'blank node', 'value': u'_:b42'}},\n",
       "  {'object': {'type': 'blank node', 'value': u'_:b49'},\n",
       "   'predicate': {'type': 'IRI', 'value': u'http://example.org/gene/'},\n",
       "   'subject': {'type': 'blank node', 'value': u'_:b42'}},\n",
       "  {'object': {'type': 'blank node', 'value': u'_:b50'},\n",
       "   'predicate': {'type': 'IRI', 'value': u'http://example.org/gene/'},\n",
       "   'subject': {'type': 'blank node', 'value': u'_:b42'}},\n",
       "  {'object': {'type': 'blank node', 'value': u'_:b51'},\n",
       "   'predicate': {'type': 'IRI', 'value': u'http://example.org/gene/'},\n",
       "   'subject': {'type': 'blank node', 'value': u'_:b42'}},\n",
       "  {'object': {'datatype': 'http://www.w3.org/2001/XMLSchema#string',\n",
       "    'type': 'literal',\n",
       "    'value': u'rs1800562'},\n",
       "   'predicate': {'type': 'IRI', 'value': u'http://identifiers.org/dbsnp/'},\n",
       "   'subject': {'type': 'blank node', 'value': u'_:b42'}},\n",
       "  {'object': {'datatype': 'http://www.w3.org/2001/XMLSchema#string',\n",
       "    'type': 'literal',\n",
       "    'value': u'HFE'},\n",
       "   'predicate': {'type': 'IRI',\n",
       "    'value': u'http://identifiers.org/hgnc.symbol/'},\n",
       "   'subject': {'type': 'blank node', 'value': u'_:b43'}},\n",
       "  {'object': {'datatype': 'http://www.w3.org/2001/XMLSchema#string',\n",
       "    'type': 'literal',\n",
       "    'value': u'NM_139011.2'},\n",
       "   'predicate': {'type': 'IRI', 'value': u'http://identifiers.org/refseq/'},\n",
       "   'subject': {'type': 'blank node', 'value': u'_:b43'}},\n",
       "  {'object': {'datatype': 'http://www.w3.org/2001/XMLSchema#string',\n",
       "    'type': 'literal',\n",
       "    'value': u'HFE'},\n",
       "   'predicate': {'type': 'IRI',\n",
       "    'value': u'http://identifiers.org/hgnc.symbol/'},\n",
       "   'subject': {'type': 'blank node', 'value': u'_:b44'}},\n",
       "  {'object': {'datatype': 'http://www.w3.org/2001/XMLSchema#string',\n",
       "    'type': 'literal',\n",
       "    'value': u'NM_139010.2'},\n",
       "   'predicate': {'type': 'IRI', 'value': u'http://identifiers.org/refseq/'},\n",
       "   'subject': {'type': 'blank node', 'value': u'_:b44'}},\n",
       "  {'object': {'datatype': 'http://www.w3.org/2001/XMLSchema#string',\n",
       "    'type': 'literal',\n",
       "    'value': u'HFE'},\n",
       "   'predicate': {'type': 'IRI',\n",
       "    'value': u'http://identifiers.org/hgnc.symbol/'},\n",
       "   'subject': {'type': 'blank node', 'value': u'_:b45'}},\n",
       "  {'object': {'datatype': 'http://www.w3.org/2001/XMLSchema#string',\n",
       "    'type': 'literal',\n",
       "    'value': u'NM_139009.2'},\n",
       "   'predicate': {'type': 'IRI', 'value': u'http://identifiers.org/refseq/'},\n",
       "   'subject': {'type': 'blank node', 'value': u'_:b45'}},\n",
       "  {'object': {'datatype': 'http://www.w3.org/2001/XMLSchema#string',\n",
       "    'type': 'literal',\n",
       "    'value': u'HFE'},\n",
       "   'predicate': {'type': 'IRI',\n",
       "    'value': u'http://identifiers.org/hgnc.symbol/'},\n",
       "   'subject': {'type': 'blank node', 'value': u'_:b46'}},\n",
       "  {'object': {'datatype': 'http://www.w3.org/2001/XMLSchema#string',\n",
       "    'type': 'literal',\n",
       "    'value': u'NM_139008.2'},\n",
       "   'predicate': {'type': 'IRI', 'value': u'http://identifiers.org/refseq/'},\n",
       "   'subject': {'type': 'blank node', 'value': u'_:b46'}},\n",
       "  {'object': {'datatype': 'http://www.w3.org/2001/XMLSchema#string',\n",
       "    'type': 'literal',\n",
       "    'value': u'HFE'},\n",
       "   'predicate': {'type': 'IRI',\n",
       "    'value': u'http://identifiers.org/hgnc.symbol/'},\n",
       "   'subject': {'type': 'blank node', 'value': u'_:b47'}},\n",
       "  {'object': {'datatype': 'http://www.w3.org/2001/XMLSchema#string',\n",
       "    'type': 'literal',\n",
       "    'value': u'NM_139007.2'},\n",
       "   'predicate': {'type': 'IRI', 'value': u'http://identifiers.org/refseq/'},\n",
       "   'subject': {'type': 'blank node', 'value': u'_:b47'}},\n",
       "  {'object': {'datatype': 'http://www.w3.org/2001/XMLSchema#string',\n",
       "    'type': 'literal',\n",
       "    'value': u'HFE'},\n",
       "   'predicate': {'type': 'IRI',\n",
       "    'value': u'http://identifiers.org/hgnc.symbol/'},\n",
       "   'subject': {'type': 'blank node', 'value': u'_:b48'}},\n",
       "  {'object': {'datatype': 'http://www.w3.org/2001/XMLSchema#string',\n",
       "    'type': 'literal',\n",
       "    'value': u'NM_139006.2'},\n",
       "   'predicate': {'type': 'IRI', 'value': u'http://identifiers.org/refseq/'},\n",
       "   'subject': {'type': 'blank node', 'value': u'_:b48'}},\n",
       "  {'object': {'datatype': 'http://www.w3.org/2001/XMLSchema#string',\n",
       "    'type': 'literal',\n",
       "    'value': u'HFE'},\n",
       "   'predicate': {'type': 'IRI',\n",
       "    'value': u'http://identifiers.org/hgnc.symbol/'},\n",
       "   'subject': {'type': 'blank node', 'value': u'_:b49'}},\n",
       "  {'object': {'datatype': 'http://www.w3.org/2001/XMLSchema#string',\n",
       "    'type': 'literal',\n",
       "    'value': u'NM_139004.2'},\n",
       "   'predicate': {'type': 'IRI', 'value': u'http://identifiers.org/refseq/'},\n",
       "   'subject': {'type': 'blank node', 'value': u'_:b49'}},\n",
       "  {'object': {'type': 'blank node', 'value': u'_:b6'},\n",
       "   'predicate': {'type': 'IRI', 'value': u'http://example.org/conditions'},\n",
       "   'subject': {'type': 'blank node', 'value': u'_:b5'}},\n",
       "  {'object': {'datatype': 'http://www.w3.org/2001/XMLSchema#string',\n",
       "    'type': 'literal',\n",
       "    'value': u'RCV000000019'},\n",
       "   'predicate': {'type': 'IRI', 'value': u'http://identifer.org/clinvar'},\n",
       "   'subject': {'type': 'blank node', 'value': u'_:b5'}},\n",
       "  {'object': {'datatype': 'http://www.w3.org/2001/XMLSchema#string',\n",
       "    'type': 'literal',\n",
       "    'value': u'HFE'},\n",
       "   'predicate': {'type': 'IRI',\n",
       "    'value': u'http://identifiers.org/hgnc.symbol/'},\n",
       "   'subject': {'type': 'blank node', 'value': u'_:b50'}},\n",
       "  {'object': {'datatype': 'http://www.w3.org/2001/XMLSchema#string',\n",
       "    'type': 'literal',\n",
       "    'value': u'NM_139003.2'},\n",
       "   'predicate': {'type': 'IRI', 'value': u'http://identifiers.org/refseq/'},\n",
       "   'subject': {'type': 'blank node', 'value': u'_:b50'}},\n",
       "  {'object': {'datatype': 'http://www.w3.org/2001/XMLSchema#string',\n",
       "    'type': 'literal',\n",
       "    'value': u'HFE'},\n",
       "   'predicate': {'type': 'IRI',\n",
       "    'value': u'http://identifiers.org/hgnc.symbol/'},\n",
       "   'subject': {'type': 'blank node', 'value': u'_:b51'}},\n",
       "  {'object': {'datatype': 'http://www.w3.org/2001/XMLSchema#string',\n",
       "    'type': 'literal',\n",
       "    'value': u'NM_000410.3'},\n",
       "   'predicate': {'type': 'IRI', 'value': u'http://identifiers.org/refseq/'},\n",
       "   'subject': {'type': 'blank node', 'value': u'_:b51'}},\n",
       "  {'object': {'datatype': 'http://www.w3.org/2001/XMLSchema#string',\n",
       "    'type': 'literal',\n",
       "    'value': u'rs1800562'},\n",
       "   'predicate': {'type': 'IRI', 'value': u'http://identifiers.org/dbsnp/'},\n",
       "   'subject': {'type': 'blank node', 'value': u'_:b52'}},\n",
       "  {'object': {'datatype': 'http://www.w3.org/2001/XMLSchema#string',\n",
       "    'type': 'literal',\n",
       "    'value': u'HFE'},\n",
       "   'predicate': {'type': 'IRI',\n",
       "    'value': u'http://identifiers.org/hgnc.symbol/'},\n",
       "   'subject': {'type': 'blank node', 'value': u'_:b52'}},\n",
       "  {'object': {'datatype': 'http://www.w3.org/2001/XMLSchema#string',\n",
       "    'type': 'literal',\n",
       "    'value': u'rs1800562'},\n",
       "   'predicate': {'type': 'IRI', 'value': u'http://identifiers.org/dbsnp/'},\n",
       "   'subject': {'type': 'blank node', 'value': u'_:b53'}},\n",
       "  {'object': {'datatype': 'http://www.w3.org/2001/XMLSchema#string',\n",
       "    'type': 'literal',\n",
       "    'value': u'VAR_004398'},\n",
       "   'predicate': {'type': 'IRI', 'value': u'http://identifiers.org/uniprot/'},\n",
       "   'subject': {'type': 'blank node', 'value': u'_:b53'}},\n",
       "  {'object': {'type': 'blank node', 'value': u'_:b7'},\n",
       "   'predicate': {'type': 'IRI', 'value': u'http://example.org/identifiers'},\n",
       "   'subject': {'type': 'blank node', 'value': u'_:b6'}},\n",
       "  {'object': {'datatype': 'http://www.w3.org/2001/XMLSchema#string',\n",
       "    'type': 'literal',\n",
       "    'value': u'235200'},\n",
       "   'predicate': {'type': 'IRI', 'value': u'http://identifiers.org/omim/'},\n",
       "   'subject': {'type': 'blank node', 'value': u'_:b7'}},\n",
       "  {'object': {'type': 'blank node', 'value': u'_:b9'},\n",
       "   'predicate': {'type': 'IRI', 'value': u'http://example.org/conditions'},\n",
       "   'subject': {'type': 'blank node', 'value': u'_:b8'}},\n",
       "  {'object': {'datatype': 'http://www.w3.org/2001/XMLSchema#string',\n",
       "    'type': 'literal',\n",
       "    'value': u'RCV000000020'},\n",
       "   'predicate': {'type': 'IRI', 'value': u'http://identifer.org/clinvar'},\n",
       "   'subject': {'type': 'blank node', 'value': u'_:b8'}}]}"
      ]
     },
     "execution_count": 47,
     "metadata": {},
     "output_type": "execute_result"
    }
   ],
   "source": [
    "nquads"
   ]
  },
  {
   "cell_type": "code",
   "execution_count": null,
   "metadata": {
    "collapsed": true
   },
   "outputs": [],
   "source": []
  }
 ],
 "metadata": {
  "kernelspec": {
   "display_name": "Python 2",
   "language": "python",
   "name": "python2"
  },
  "language_info": {
   "codemirror_mode": {
    "name": "ipython",
    "version": 2
   },
   "file_extension": ".py",
   "mimetype": "text/x-python",
   "name": "python",
   "nbconvert_exporter": "python",
   "pygments_lexer": "ipython2",
   "version": "2.7.10"
  }
 },
 "nbformat": 4,
 "nbformat_minor": 0
}
